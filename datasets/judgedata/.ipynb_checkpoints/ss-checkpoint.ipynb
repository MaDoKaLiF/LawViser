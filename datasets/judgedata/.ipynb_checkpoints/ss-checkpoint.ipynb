{
 "cells": [
  {
   "cell_type": "code",
   "execution_count": 1,
   "id": "4a8e5af8-c50e-466e-976a-bbbf099323fb",
   "metadata": {},
   "outputs": [
    {
     "name": "stdout",
     "output_type": "stream",
     "text": [
      "총 8000개의 데이터가 train_judge.json에 저장되었습니다.\n"
     ]
    }
   ],
   "source": [
    "import json\n",
    "import glob\n",
    "\n",
    "def merge_json_files(file_list, output_file):\n",
    "    merged_data = []\n",
    "    for file in file_list:\n",
    "        with open(file, 'r', encoding='utf-8') as f:\n",
    "            data = json.load(f)\n",
    "            # 각 파일의 데이터가 리스트인지 확인\n",
    "            if isinstance(data, list):\n",
    "                merged_data.extend(data)\n",
    "            else:\n",
    "                print(f\"{file}의 데이터는 리스트 형태가 아닙니다.\")\n",
    "    # 합쳐진 데이터를 output_file에 저장\n",
    "    with open(output_file, 'w', encoding='utf-8') as f:\n",
    "        json.dump(merged_data, f, ensure_ascii=False, indent=2)\n",
    "    print(f\"총 {len(merged_data)}개의 데이터가 {output_file}에 저장되었습니다.\")\n",
    "\n",
    "if __name__ == '__main__':\n",
    "    # 현재 디렉토리 내의 모든 .json 파일을 가져옵니다.\n",
    "    json_files = glob.glob('*.json')\n",
    "    # 예시: 2021.json, 2020.json 등 여러 파일이 합쳐짐\n",
    "    merge_json_files(json_files, 'val_judge.json')\n"
   ]
  },
  {
   "cell_type": "code",
   "execution_count": null,
   "id": "2495bba3-e89a-46b3-b166-047630ada610",
   "metadata": {},
   "outputs": [],
   "source": []
  }
 ],
 "metadata": {
  "kernelspec": {
   "display_name": "Python 3 (ipykernel)",
   "language": "python",
   "name": "python3"
  },
  "language_info": {
   "codemirror_mode": {
    "name": "ipython",
    "version": 3
   },
   "file_extension": ".py",
   "mimetype": "text/x-python",
   "name": "python",
   "nbconvert_exporter": "python",
   "pygments_lexer": "ipython3",
   "version": "3.10.12"
  }
 },
 "nbformat": 4,
 "nbformat_minor": 5
}
